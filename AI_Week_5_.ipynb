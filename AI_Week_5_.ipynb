{
  "nbformat": 4,
  "nbformat_minor": 0,
  "metadata": {
    "kernelspec": {
      "display_name": "Python 3",
      "language": "python",
      "name": "python3"
    },
    "language_info": {
      "codemirror_mode": {
        "name": "ipython",
        "version": 3
      },
      "file_extension": ".py",
      "mimetype": "text/x-python",
      "name": "python",
      "nbconvert_exporter": "python",
      "pygments_lexer": "ipython3",
      "version": "3.8.5"
    },
    "colab": {
      "name": "AI_Week_5_.ipynb",
      "provenance": [],
      "include_colab_link": true
    }
  },
  "cells": [
    {
      "cell_type": "markdown",
      "metadata": {
        "id": "view-in-github",
        "colab_type": "text"
      },
      "source": [
        "<a href=\"https://colab.research.google.com/github/MuhammadHaiderZaidi/Checkers-Min-MAX-algorithim-optimized-by-multiprocessing/blob/main/AI_Week_5_.ipynb\" target=\"_parent\"><img src=\"https://colab.research.google.com/assets/colab-badge.svg\" alt=\"Open In Colab\"/></a>"
      ]
    },
    {
      "cell_type": "markdown",
      "metadata": {
        "id": "tVPEHfoaKb_a"
      },
      "source": [
        "# Breath First Search(Tree and Graph)"
      ]
    },
    {
      "cell_type": "code",
      "metadata": {
        "id": "gkzhyM_5Kb_h",
        "outputId": "e4c44e09-e9b7-450c-ae69-ca03cfb940d6"
      },
      "source": [
        "class Node:\n",
        "    def __init__(self ,key):\n",
        "        self.data = key\n",
        "        self.left = None\n",
        "        self.right = None\n",
        "\n",
        "\n",
        "def printLevelOrder(root):\n",
        "    # Base Case\n",
        "    if root is None:\n",
        "        return\n",
        "\n",
        "    \n",
        "    # Create an empty queue for level order traversal\n",
        "    queue = []\n",
        "    # Enqueue Root and initialize height\n",
        "    queue.append(root)\n",
        "    \n",
        "    while(len(queue) > 0):\n",
        "        print(len(queue))\n",
        "        # Print front of queue and \n",
        "        # remove it from queue\n",
        "        print (queue[0].data)\n",
        "        node = queue.pop(0)\n",
        "\n",
        "        #Enqueue left child\n",
        "        if node.left is not None:\n",
        "            queue.append(node.left)\n",
        "\n",
        "        # Enqueue right child\n",
        "        if node.right is not None:\n",
        "            queue.append(node.right)\n",
        "\n",
        "\n",
        "root = Node('S')\n",
        "root.left = Node('A')\n",
        "root.right = Node('B')\n",
        "root.left.left = Node('C')\n",
        "root.left.right = Node('D')\n",
        "root.right.left = Node('Z')\n",
        "root.right.right = Node('K')\n",
        "root.left.left.left = Node('M')\n",
        "root.left.left.right = Node('O')\n",
        "root.right.left.right = Node('G')\n",
        "root.right.left.right.left = Node('H')\n",
        "print (\"Level Order Traversal of binary tree is -\")\n",
        "printLevelOrder(root)\n"
      ],
      "execution_count": null,
      "outputs": [
        {
          "output_type": "stream",
          "text": [
            "Level Order Traversal of binary tree is -\n",
            "1\n",
            "S\n",
            "2\n",
            "A\n",
            "3\n",
            "B\n",
            "4\n",
            "C\n",
            "5\n",
            "D\n",
            "4\n",
            "Z\n",
            "4\n",
            "K\n",
            "3\n",
            "M\n",
            "2\n",
            "O\n",
            "1\n",
            "G\n",
            "1\n",
            "H\n"
          ],
          "name": "stdout"
        }
      ]
    },
    {
      "cell_type": "code",
      "metadata": {
        "id": "7g9SAw4UKb_j",
        "outputId": "1916aac7-f6f8-46d3-b1ac-e813d1bb85b7"
      },
      "source": [
        "def bfs(visited, graph, node): #function for BFS\n",
        "    visited.append(node)\n",
        "    queue.append(node)\n",
        "\n",
        "    while queue:          # Creating loop to visit each node\n",
        "        m = queue.pop(0) \n",
        "        print (m, end = \" \") \n",
        "        for neighbour in graph[m]:\n",
        "            if neighbour not in visited:\n",
        "                visited.append(neighbour)\n",
        "                queue.append(neighbour)\n",
        "\n",
        "        \n",
        "graph = {\n",
        "  '5' : ['3','7'],\n",
        "  '3' : ['2', '4'],\n",
        "  '7' : ['8'],\n",
        "  '2' : [],\n",
        "  '4' : ['8'],\n",
        "  '8' : []\n",
        "}\n",
        "\n",
        "visited = [] # List for visited nodes.\n",
        "queue = []     #Initialize a queue\n",
        "\n",
        "\n",
        "\n",
        "print(\"Following is the Breadth-First Search\")\n",
        "bfs(visited, graph, '5')    "
      ],
      "execution_count": null,
      "outputs": [
        {
          "output_type": "stream",
          "text": [
            "Following is the Breadth-First Search\n",
            "5 3 7 2 4 8 "
          ],
          "name": "stdout"
        }
      ]
    },
    {
      "cell_type": "markdown",
      "metadata": {
        "id": "KD5lR8mTKb_k"
      },
      "source": [
        "# Depth First Search Tree and Graph"
      ]
    },
    {
      "cell_type": "code",
      "metadata": {
        "id": "sHDZK0PPKb_k",
        "outputId": "feb255c0-e40b-4b99-9b2d-2ad20a6defd4"
      },
      "source": [
        "# Python program to for tree traversals \n",
        "# A class that represents an individual node in a Binary Tree \n",
        "class Node: \n",
        "    def __init__(self, key): \n",
        "        self.left = None\n",
        "        self.right = None\n",
        "        self.val = key \n",
        "\n",
        "# A function to do preorder tree traversal \n",
        "def printPreorder(root): \n",
        "    if root: \n",
        "        # First print the data of node \n",
        "        print(root.val)\n",
        "        # Then recur on left child \n",
        "        printPreorder(root.left) \n",
        "        # Finally recur on right child \n",
        "        printPreorder(root.right) \n",
        "\n",
        "\n",
        "root = Node(1) \n",
        "root.left = Node(2) \n",
        "root.right = Node(3) \n",
        "root.left.left = Node(4) \n",
        "root.left.right = Node(5) \n",
        "print(\"Preorder traversal of binary tree is\")\n",
        "printPreorder(root) "
      ],
      "execution_count": null,
      "outputs": [
        {
          "output_type": "stream",
          "text": [
            "Preorder traversal of binary tree is\n",
            "1\n",
            "2\n",
            "4\n",
            "5\n",
            "3\n"
          ],
          "name": "stdout"
        }
      ]
    },
    {
      "cell_type": "code",
      "metadata": {
        "id": "NmShcSxEKb_l",
        "outputId": "999df476-7440-479a-df5d-1883863f0182"
      },
      "source": [
        "def dfs(visited, graph, node):  #function for dfs \n",
        "    if node not in visited:\n",
        "        print (node)\n",
        "        visited.add(node)\n",
        "        for neighbour in graph[node]:\n",
        "            dfs(visited, graph, neighbour)\n",
        "\n",
        "\n",
        "# Using a Python dictionary to act as an adjacency list\n",
        "graph = {\n",
        "  '5' : ['3','7'],\n",
        "  '3' : ['2', '4'],\n",
        "  '7' : ['8'],\n",
        "  '2' : [],\n",
        "  '4' : ['8'],\n",
        "  '8' : []\n",
        "}\n",
        "visited = set() # Set to keep track of visited nodes of graph.\n",
        "print(\"Following is the Depth-First Search\")\n",
        "dfs(visited, graph, '5')"
      ],
      "execution_count": null,
      "outputs": [
        {
          "output_type": "stream",
          "text": [
            "Following is the Depth-First Search\n",
            "5\n",
            "3\n",
            "2\n",
            "4\n",
            "8\n",
            "7\n"
          ],
          "name": "stdout"
        }
      ]
    },
    {
      "cell_type": "code",
      "metadata": {
        "colab": {
          "base_uri": "https://localhost:8080/"
        },
        "id": "2AlygGFzPmV9",
        "outputId": "2a64b81d-b571-464e-9365-18733beb70ea"
      },
      "source": [
        "\r\n",
        "\r\n",
        "\r\n",
        "\r\n",
        "queue = pqueue()\r\n",
        "queue.insert(5)\r\n",
        "queue.insert(3)\r\n",
        "queue.insert(10)\r\n",
        "queue.dequeue()\r\n",
        "queue.drop()"
      ],
      "execution_count": 25,
      "outputs": [
        {
          "output_type": "execute_result",
          "data": {
            "text/plain": [
              "[3, 5]"
            ]
          },
          "metadata": {
            "tags": []
          },
          "execution_count": 25
        }
      ]
    },
    {
      "cell_type": "code",
      "metadata": {
        "colab": {
          "base_uri": "https://localhost:8080/",
          "height": 367
        },
        "id": "VLxkUCRGLl__",
        "outputId": "ccdc2da0-8e27-4c0e-b53c-9bce0ef263cd"
      },
      "source": [
        "\r\n",
        "class pqueue:\r\n",
        "  def __init__(self):\r\n",
        "    self.queue = []\r\n",
        "\r\n",
        "  def insert(self,val):\r\n",
        "    self.queue.append(val)\r\n",
        "    self.queue.sort()\r\n",
        "\r\n",
        "  def dequeue(self):\r\n",
        "    pval = self.queue[-1]\r\n",
        "    self.queue = self.queue[:-1]\r\n",
        "    return pval\r\n",
        "\r\n",
        "  def drop(self):\r\n",
        "    return self.queue\r\n",
        "\r\n",
        "\r\n",
        "\r\n",
        "\r\n",
        "\r\n",
        "adj = [[float(\"inf\"),3,4,float(\"inf\"),float(\"inf\")],\r\n",
        " [float(\"inf\"),float(\"inf\"),2,3],\r\n",
        " [float(\"inf\"),float(\"inf\"),float(\"inf\"),float(\"inf\")],\r\n",
        " [float(\"inf\"),float(\"inf\"),float(\"inf\"),float(\"inf\")],\r\n",
        " [float(\"inf\"),float(\"inf\"),float(\"inf\"),float(\"inf\")]]\r\n",
        "\r\n",
        "\r\n",
        "def UniformCostSearch(adj):\r\n",
        "   visited = [False]*len(adj)\r\n",
        "   return visited\r\n",
        "\r\n",
        "UniformCostSearch(adj)"
      ],
      "execution_count": 13,
      "outputs": [
        {
          "output_type": "error",
          "ename": "ModuleNotFoundError",
          "evalue": "ignored",
          "traceback": [
            "\u001b[0;31m---------------------------------------------------------------------------\u001b[0m",
            "\u001b[0;31mModuleNotFoundError\u001b[0m                       Traceback (most recent call last)",
            "\u001b[0;32m<ipython-input-13-7e8388823bb2>\u001b[0m in \u001b[0;36m<module>\u001b[0;34m()\u001b[0m\n\u001b[0;32m----> 1\u001b[0;31m \u001b[0;32mimport\u001b[0m \u001b[0mprority\u001b[0m\u001b[0;34m\u001b[0m\u001b[0;34m\u001b[0m\u001b[0m\n\u001b[0m\u001b[1;32m      2\u001b[0m \u001b[0;34m\u001b[0m\u001b[0m\n\u001b[1;32m      3\u001b[0m adj = [[float(\"inf\"),3,4,float(\"inf\"),float(\"inf\")],\n\u001b[1;32m      4\u001b[0m  \u001b[0;34m[\u001b[0m\u001b[0mfloat\u001b[0m\u001b[0;34m(\u001b[0m\u001b[0;34m\"inf\"\u001b[0m\u001b[0;34m)\u001b[0m\u001b[0;34m,\u001b[0m\u001b[0mfloat\u001b[0m\u001b[0;34m(\u001b[0m\u001b[0;34m\"inf\"\u001b[0m\u001b[0;34m)\u001b[0m\u001b[0;34m,\u001b[0m\u001b[0;36m2\u001b[0m\u001b[0;34m,\u001b[0m\u001b[0;36m3\u001b[0m\u001b[0;34m]\u001b[0m\u001b[0;34m,\u001b[0m\u001b[0;34m\u001b[0m\u001b[0;34m\u001b[0m\u001b[0m\n\u001b[1;32m      5\u001b[0m  \u001b[0;34m[\u001b[0m\u001b[0mfloat\u001b[0m\u001b[0;34m(\u001b[0m\u001b[0;34m\"inf\"\u001b[0m\u001b[0;34m)\u001b[0m\u001b[0;34m,\u001b[0m\u001b[0mfloat\u001b[0m\u001b[0;34m(\u001b[0m\u001b[0;34m\"inf\"\u001b[0m\u001b[0;34m)\u001b[0m\u001b[0;34m,\u001b[0m\u001b[0mfloat\u001b[0m\u001b[0;34m(\u001b[0m\u001b[0;34m\"inf\"\u001b[0m\u001b[0;34m)\u001b[0m\u001b[0;34m,\u001b[0m\u001b[0mfloat\u001b[0m\u001b[0;34m(\u001b[0m\u001b[0;34m\"inf\"\u001b[0m\u001b[0;34m)\u001b[0m\u001b[0;34m]\u001b[0m\u001b[0;34m,\u001b[0m\u001b[0;34m\u001b[0m\u001b[0;34m\u001b[0m\u001b[0m\n",
            "\u001b[0;31mModuleNotFoundError\u001b[0m: No module named 'prority'",
            "",
            "\u001b[0;31m---------------------------------------------------------------------------\u001b[0;32m\nNOTE: If your import is failing due to a missing package, you can\nmanually install dependencies using either !pip or !apt.\n\nTo view examples of installing some common dependencies, click the\n\"Open Examples\" button below.\n\u001b[0;31m---------------------------------------------------------------------------\u001b[0m\n"
          ]
        }
      ]
    },
    {
      "cell_type": "code",
      "metadata": {
        "colab": {
          "base_uri": "https://localhost:8080/"
        },
        "id": "ftYhvhctMkTK",
        "outputId": "e4b864f8-723b-4b02-d571-91a15241c6f1"
      },
      "source": [
        "print(<10**8)"
      ],
      "execution_count": 10,
      "outputs": [
        {
          "output_type": "stream",
          "text": [
            "False\n"
          ],
          "name": "stdout"
        }
      ]
    },
    {
      "cell_type": "markdown",
      "metadata": {
        "id": "F10PDDp0Kb_l"
      },
      "source": [
        "# Uniform-cost Search Algorithm"
      ]
    },
    {
      "cell_type": "code",
      "metadata": {
        "colab": {
          "base_uri": "https://localhost:8080/"
        },
        "id": "3z90yg5MKb_m",
        "outputId": "e3fce95e-0369-4714-a755-32db76ddf4f5"
      },
      "source": [
        "# returns the minimum cost in a vector( if there are multiple goal states)\n",
        "def uniform_cost_search(goal, start):\n",
        "    # minimum cost upto goal state from starting\n",
        "    global graph,cost\n",
        "    answer = []\n",
        "    # create a priority queue\n",
        "    queue = []\n",
        "    # set the answer vector to max value\n",
        "    for i in range(len(goal)):\n",
        "        answer.append(10**8)\n",
        "        print(\"answer \",i)\n",
        "\n",
        "    # insert the starting index\n",
        "    queue.append([0, start])\n",
        "\n",
        "    # map to store visited node\n",
        "    visited = {}\n",
        "    count = 0\n",
        "\n",
        "    # while the queue is not empty\n",
        "    while (len(queue) > 0):\n",
        "        # get the top element of the\n",
        "        queue = sorted(queue)\n",
        "        print(\"queue\",queue)\n",
        "        p = queue[-1]\n",
        "        print(\"p\",p)\n",
        "        print(\"p[0]\",p[0])\n",
        "        # pop the element\n",
        "        del queue[-1]\n",
        "\n",
        "        # get the original value\n",
        "        p[0] *= -1\n",
        "\n",
        "        # check if the element is part of the goal list\n",
        "        if (p[1] in goal):\n",
        "            # get the position\n",
        "            index = goal.index(p[1])\n",
        "            print(\"Goal \",goal,\"Index \",index)\n",
        "            # if a new goal is reached\n",
        "            if (answer[index] == 10**8):\n",
        "                count += 1\n",
        "\n",
        "            # if the cost is less\n",
        "            if (answer[index] > p[0]):\n",
        "                answer[index] = p[0]\n",
        "                print(\"answer[index] \",answer[index])\n",
        "            # pop the element\n",
        "            del queue[-1]\n",
        "\n",
        "            queue = sorted(queue)\n",
        "            if (count == len(goal)):\n",
        "                return answer\n",
        "\n",
        "        # check for the non visited nodes which are adjacent to present node\n",
        "        if (p[1] not in visited):\n",
        "            for i in range(len(graph[p[1]])):\n",
        "                # value is multiplied by -1 so that\n",
        "                # least priority is at the top\n",
        "                queue.append( [(p[0] + cost[(p[1], graph[p[1]][i])])* -1, graph[p[1]][i]])\n",
        "\n",
        "        # mark as visited\n",
        "        visited[p[1]] = 1\n",
        "\n",
        "    return answer\n",
        "\n",
        "\n",
        "# create the graph\n",
        "graph,cost = [[] for i in range(8)],{}\n",
        "print(graph)\n",
        "print(cost)\n",
        "# add edge\n",
        "graph[0].append(1)\n",
        "graph[0].append(3)\n",
        "print(graph)\n",
        "graph[3].append(1)\n",
        "graph[3].append(6)\n",
        "graph[3].append(4)\n",
        "print(graph)\n",
        "graph[1].append(6)\n",
        "print(graph)\n",
        "graph[4].append(2)\n",
        "graph[4].append(5)\n",
        "print(graph)\n",
        "graph[2].append(1)\n",
        "print(graph)\n",
        "graph[5].append(2)\n",
        "graph[5].append(6)\n",
        "print(graph)\n",
        "graph[6].append(4)\n",
        "print(graph)\n",
        "\n",
        "# add the cost\n",
        "cost[(0, 1)] = 2\n",
        "cost[(0, 3)] = 5\n",
        "cost[(1, 6)] = 1\n",
        "cost[(3, 1)] = 5\n",
        "cost[(3, 6)] = 6\n",
        "cost[(3, 4)] = 2\n",
        "cost[(2, 1)] = 4\n",
        "cost[(4, 2)] = 4\n",
        "cost[(4, 5)] = 3\n",
        "cost[(5, 2)] = 6\n",
        "cost[(5, 6)] = 3\n",
        "cost[(6, 4)] = 7\n",
        "\n",
        "# goal state\n",
        "goal = []\n",
        "# set the goal\n",
        "# there can be multiple goal states\n",
        "goal.append(6)\n",
        "print(\"goal\", goal)\n",
        "# get the answer\n",
        "answer = uniform_cost_search(goal, 0)\n",
        "\n",
        "# prrint answer\n",
        "print(\"Minimum from 0 to 6 is = \",answer)\n"
      ],
      "execution_count": 3,
      "outputs": [
        {
          "output_type": "stream",
          "text": [
            "[[], [], [], [], [], [], [], []]\n",
            "{}\n",
            "[[1, 3], [], [], [], [], [], [], []]\n",
            "[[1, 3], [], [], [1, 6, 4], [], [], [], []]\n",
            "[[1, 3], [6], [], [1, 6, 4], [], [], [], []]\n",
            "[[1, 3], [6], [], [1, 6, 4], [2, 5], [], [], []]\n",
            "[[1, 3], [6], [1], [1, 6, 4], [2, 5], [], [], []]\n",
            "[[1, 3], [6], [1], [1, 6, 4], [2, 5], [2, 6], [], []]\n",
            "[[1, 3], [6], [1], [1, 6, 4], [2, 5], [2, 6], [4], []]\n",
            "goal [6]\n",
            "answer  0\n",
            "queue [[0, 0]]\n",
            "p [0, 0]\n",
            "p[0] 0\n",
            "queue [[-5, 3], [-2, 1]]\n",
            "p [-2, 1]\n",
            "p[0] -2\n",
            "queue [[-5, 3], [-3, 6]]\n",
            "p [-3, 6]\n",
            "p[0] -3\n",
            "Goal  [6] Index  0\n",
            "answer[index]  3\n",
            "Minimum from 0 to 6 is =  [3]\n"
          ],
          "name": "stdout"
        }
      ]
    },
    {
      "cell_type": "markdown",
      "metadata": {
        "id": "rHNqEIbPKb_n"
      },
      "source": [
        "# Iterative deepening depth-first Search"
      ]
    },
    {
      "cell_type": "code",
      "metadata": {
        "id": "9xsfKJfdKb_o",
        "outputId": "55234032-e588-460d-e5a8-4313b24ac9a8"
      },
      "source": [
        "# Python program to print DFS traversal from a given graph \n",
        "from collections import defaultdict \n",
        "# This class represents a directed graph using adjacency list representation \n",
        "class Graph: \n",
        "    def __init__(self,vertices): \n",
        "        # No. of vertices \n",
        "        self.V = vertices \n",
        "        # default dictionary to store graph \n",
        "        self.graph = defaultdict(list) \n",
        "\n",
        "    # function to add an edge to graph \n",
        "    def addEdge(self,u,v): \n",
        "        self.graph[u].append(v) \n",
        "\n",
        "    # A function to perform a Depth-Limited search \n",
        "    # from given source 'src' \n",
        "    def DLS(self,src,target,maxDepth): \n",
        "        if src == target : return True\n",
        "        # If reached the maximum depth, stop recursing. \n",
        "        if maxDepth <= 0 : return False\n",
        "        # Recur for all the vertices adjacent to this vertex \n",
        "        for i in self.graph[src]: \n",
        "            if(self.DLS(i,target,maxDepth-1)): \n",
        "                return True\n",
        "        return False\n",
        "\n",
        "    # IDDFS to search if target is reachable from v. \n",
        "    # It uses recursive DLS() \n",
        "    def IDDFS(self,src, target, maxDepth): \n",
        "        # Repeatedly depth-limit search till the \n",
        "        # maximum depth \n",
        "        for i in range(maxDepth): \n",
        "            if (self.DLS(src, target, i)): \n",
        "                return True\n",
        "        return False\n",
        "\n",
        "# Create a graph given in the above diagram \n",
        "g = Graph (7); \n",
        "g.addEdge(0, 1) \n",
        "g.addEdge(0, 2) \n",
        "g.addEdge(1, 3) \n",
        "g.addEdge(1, 4) \n",
        "g.addEdge(2, 5) \n",
        "g.addEdge(2, 6) \n",
        "\n",
        "target = 6; maxDepth = 3; src = 0\n",
        "\n",
        "if g.IDDFS(src, target, maxDepth) == True: \n",
        "    print (\"Target is reachable from source within max depth\") \n",
        "else : \n",
        "    print (\"Target is NOT reachable from source within max depth\") \n",
        "\n"
      ],
      "execution_count": null,
      "outputs": [
        {
          "output_type": "stream",
          "text": [
            "Target is reachable from source within max depth\n"
          ],
          "name": "stdout"
        }
      ]
    },
    {
      "cell_type": "markdown",
      "metadata": {
        "id": "jenUrh53Kb_o"
      },
      "source": [
        "# Bidirectional Search Algorithm:"
      ]
    },
    {
      "cell_type": "code",
      "metadata": {
        "id": "xUQZZFMUKb_p",
        "outputId": "f5277b8f-77fd-4d98-d4dc-ff7954a4b428"
      },
      "source": [
        "# Python3 program for Bidirectional BFS Search to check path between two vertices\n",
        "\n",
        "class AdjacentNode:\n",
        "    def __init__(self, vertex):\n",
        "        self.vertex = vertex\n",
        "        self.next = None\n",
        "\n",
        "# BidirectionalSearch implementation\n",
        "class BidirectionalSearch:\n",
        "    def __init__(self, vertices):\n",
        "        # Initialize vertices and\n",
        "        # graph with vertices\n",
        "        self.vertices = vertices\n",
        "        self.graph = [None] * self.vertices\n",
        "        # Initializing queue for forward and backward search\n",
        "        self.src_queue = list()\n",
        "        self.dest_queue = list()\n",
        "        \n",
        "        # Initializing source and destination visited nodes as False\n",
        "        self.src_visited = [False] * self.vertices\n",
        "        self.dest_visited = [False] * self.vertices\n",
        "        # Initializing source and destination parent nodes\n",
        "        self.src_parent = [None] * self.vertices\n",
        "        self.dest_parent = [None] * self.vertices\n",
        "        \n",
        "    # Function for adding undirected edge \n",
        "    def add_edge(self, src, dest):\n",
        "        # Add edges to graph\n",
        "        # Add source to destination\n",
        "        node = AdjacentNode(dest)\n",
        "        node.next = self.graph[src]\n",
        "        self.graph[src] = node\n",
        "        # Since graph is undirected add\n",
        "        # destination to source\n",
        "        node = AdjacentNode(src)\n",
        "        node.next = self.graph[dest]\n",
        "        self.graph[dest] = node\n",
        "        \n",
        "    # Function for Breadth First Search \n",
        "    def bfs(self, direction = 'forward'):\n",
        "        if direction == 'forward':\n",
        "            # BFS in forward direction\n",
        "            current = self.src_queue.pop(0)\n",
        "            connected_node = self.graph[current]\n",
        "            while connected_node:\n",
        "                vertex = connected_node.vertex\n",
        "                if not self.src_visited[vertex]:\n",
        "                    self.src_queue.append(vertex)\n",
        "                    self.src_visited[vertex] = True\n",
        "                    self.src_parent[vertex] = current\n",
        "                \n",
        "                connected_node = connected_node.next\n",
        "        else:\n",
        "            # BFS in backward direction\n",
        "            current = self.dest_queue.pop(0)\n",
        "            connected_node = self.graph[current]\n",
        "            while connected_node:\n",
        "                vertex = connected_node.vertex\n",
        "                if not self.dest_visited[vertex]:\n",
        "                    self.dest_queue.append(vertex)\n",
        "                    self.dest_visited[vertex] = True\n",
        "                    self.dest_parent[vertex] = current\n",
        "                \n",
        "                connected_node = connected_node.next\n",
        "\n",
        "    # Check for intersecting vertex \n",
        "    def is_intersecting(self):\n",
        "        # Returns intersecting node \n",
        "        # if present else -1\n",
        "        for i in range(self.vertices):\n",
        "            if (self.src_visited[i] and self.dest_visited[i]):\n",
        "                return i\n",
        "            \n",
        "        return -1\n",
        "\n",
        "    # Print the path from source to target \n",
        "    def print_path(self, intersecting_node, src, dest):\n",
        "        # Print final path from source to destination\n",
        "        path = list()\n",
        "        path.append(intersecting_node)\n",
        "        i = intersecting_node\n",
        "        while i != src:\n",
        "            path.append(self.src_parent[i])\n",
        "            i = self.src_parent[i]\n",
        "        path = path[::-1]\n",
        "        i = intersecting_node\n",
        "        while i != dest:\n",
        "            path.append(self.dest_parent[i])\n",
        "            i = self.dest_parent[i]\n",
        "    \n",
        "        print(\"*****Path*****\")\n",
        "        path = list(map(str, path))\n",
        "        print(' '.join(path))\n",
        "    \n",
        "    # Function for bidirectional searching \n",
        "    def bidirectional_search(self, src, dest):\n",
        "        # Add source to queue and mark \n",
        "        # visited as True and add its\n",
        "        # parent as -1\n",
        "        self.src_queue.append(src)\n",
        "        self.src_visited[src] = True\n",
        "        self.src_parent[src] = -1\n",
        "        \n",
        "        # Add destination to queue and\n",
        "        # mark visited as True and add \n",
        "        # its parent as -1\n",
        "        self.dest_queue.append(dest)\n",
        "        self.dest_visited[dest] = True\n",
        "        self.dest_parent[dest] = -1\n",
        "        while self.src_queue and self.dest_queue:\n",
        "            # BFS in forward direction from Source Vertex\n",
        "            self.bfs(direction = 'forward')\n",
        "            # BFS in reverse direction \n",
        "            # from Destination Vertex\n",
        "            self.bfs(direction = 'backward')\n",
        "            # Check for intersecting vertex\n",
        "            intersecting_node = self.is_intersecting()\n",
        "            # If intersecting vertex exists\n",
        "            # then path from source to \n",
        "            # destination exists\n",
        "            if intersecting_node != -1:\n",
        "                print(f\"Path exists between {src} and {dest}\")\n",
        "                print(f\"Intersection at : {intersecting_node}\")\n",
        "                self.print_path(intersecting_node, src, dest)\n",
        "                exit(0)\n",
        "        return -1\n",
        "\n",
        "\n",
        "    \n",
        "# Number of Vertices in graph\n",
        "n = 15\n",
        "# Source Vertex\n",
        "src = 0\n",
        "# Destination Vertex\n",
        "dest = 14\n",
        "# Create a graph\n",
        "graph = BidirectionalSearch(n)\n",
        "graph.add_edge(0, 4)\n",
        "graph.add_edge(1, 4)\n",
        "graph.add_edge(2, 5)\n",
        "graph.add_edge(3, 5)\n",
        "graph.add_edge(4, 6)\n",
        "graph.add_edge(5, 6)\n",
        "graph.add_edge(6, 7)\n",
        "graph.add_edge(7, 8)\n",
        "graph.add_edge(8, 9)\n",
        "graph.add_edge(8, 10)\n",
        "graph.add_edge(9, 11)\n",
        "graph.add_edge(9, 12)\n",
        "graph.add_edge(10, 13)\n",
        "graph.add_edge(10, 14)\n",
        "out = graph.bidirectional_search(src, dest)\n",
        "if out == -1:\n",
        "    print(\"Path does not exist between {src} and {dest}\")"
      ],
      "execution_count": null,
      "outputs": [
        {
          "output_type": "stream",
          "text": [
            "[None, None, None, None, None, None, None, None, None, None, None, None, None, None, None]\n",
            "Path exists between 0 and 14\n",
            "Intersection at : 7\n",
            "*****Path*****\n",
            "0 4 6 7 8 10 14\n",
            "Path exists between 0 and 14\n",
            "Intersection at : 7\n",
            "*****Path*****\n",
            "0 4 6 7 8 10 14\n",
            "Path exists between 0 and 14\n",
            "Intersection at : 6\n",
            "*****Path*****\n",
            "0 4 6 7 8 10 14\n",
            "Path exists between 0 and 14\n",
            "Intersection at : 6\n",
            "*****Path*****\n",
            "0 4 6 7 8 10 14\n",
            "Path exists between 0 and 14\n",
            "Intersection at : 6\n",
            "*****Path*****\n",
            "0 4 6 7 8 10 14\n",
            "Path exists between 0 and 14\n",
            "Intersection at : 4\n",
            "*****Path*****\n",
            "0 4 6 7 8 10 14\n",
            "Path exists between 0 and 14\n",
            "Intersection at : 2\n",
            "*****Path*****\n",
            "0 4 6 5 2 5 6 7 8 10 14\n",
            "Path exists between 0 and 14\n",
            "Intersection at : 0\n",
            "*****Path*****\n",
            "0 4 6 7 8 10 14\n",
            "Path exists between 0 and 14\n",
            "Intersection at : 0\n",
            "*****Path*****\n",
            "0 4 6 7 8 10 14\n",
            "Path exists between 0 and 14\n",
            "Intersection at : 0\n",
            "*****Path*****\n",
            "0 4 6 7 8 10 14\n",
            "Path exists between 0 and 14\n",
            "Intersection at : 0\n",
            "*****Path*****\n",
            "0 4 6 7 8 10 14\n",
            "Path exists between 0 and 14\n",
            "Intersection at : 0\n",
            "*****Path*****\n",
            "0 4 6 7 8 10 14\n",
            "Path does not exist between {src} and {dest}\n"
          ],
          "name": "stdout"
        }
      ]
    },
    {
      "cell_type": "markdown",
      "metadata": {
        "id": "xmOJ-P2AKb_t"
      },
      "source": [
        "# Traveling Salesman Problem (TSP)"
      ]
    },
    {
      "cell_type": "code",
      "metadata": {
        "id": "c_i2WvymKb_v",
        "outputId": "ca033129-330e-4bd4-d0a1-a9f9c7ddc1f3"
      },
      "source": [
        "# traveling salesman problem. \n",
        "from sys import maxsize \n",
        "print(maxsize)\n",
        "from itertools import permutations\n",
        "V = 4\n",
        "# implementation of traveling Salesman Problem \n",
        "def travellingSalesmanProblem(graph, s): \n",
        "    # store all vertex apart from source vertex \n",
        "    vertex = [] \n",
        "    for i in range(V): \n",
        "        if i != s: \n",
        "            print(i)\n",
        "            vertex.append(i) \n",
        "\n",
        "    # store minimum weight \n",
        "    min_path = maxsize \n",
        "    next_permutation=permutations(vertex)\n",
        "    print(vertex)\n",
        "    for i in next_permutation:\n",
        "        # store current Path weight(cost) \n",
        "        current_pathweight = 0\n",
        "\n",
        "        # compute current path weight \n",
        "        k = s \n",
        "        for j in i: \n",
        "            current_pathweight += graph[k][j] \n",
        "            k = j \n",
        "        current_pathweight += graph[k][s] \n",
        "\n",
        "        # update minimum \n",
        "        min_path = min(min_path, current_pathweight) \n",
        "    return min_path \n",
        "\n",
        "\n",
        "\n",
        "# matrix representation of graph \n",
        "graph = [[0, 10, 15, 20], [10, 0, 35, 25], [15, 35, 0, 30], [20, 25, 30, 0]] \n",
        "s = 0\n",
        "print(travellingSalesmanProblem(graph, s))\n"
      ],
      "execution_count": null,
      "outputs": [
        {
          "output_type": "stream",
          "text": [
            "9223372036854775807\n",
            "1\n",
            "2\n",
            "3\n",
            "[1, 2, 3]\n",
            "80\n"
          ],
          "name": "stdout"
        }
      ]
    },
    {
      "cell_type": "code",
      "metadata": {
        "id": "HCqI7xMwKb_w"
      },
      "source": [
        ""
      ],
      "execution_count": null,
      "outputs": []
    }
  ]
}