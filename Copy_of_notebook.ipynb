{
  "nbformat": 4,
  "nbformat_minor": 0,
  "metadata": {
    "kernelspec": {
      "display_name": "Python 3",
      "language": "python",
      "name": "python3"
    },
    "language_info": {
      "codemirror_mode": {
        "name": "ipython",
        "version": 3
      },
      "file_extension": ".py",
      "mimetype": "text/x-python",
      "name": "python",
      "nbconvert_exporter": "python",
      "pygments_lexer": "ipython3",
      "version": "3.7.6"
    },
    "colab": {
      "name": "Copy of notebook.ipynb",
      "provenance": [],
      "include_colab_link": true
    }
  },
  "cells": [
    {
      "cell_type": "markdown",
      "metadata": {
        "id": "view-in-github",
        "colab_type": "text"
      },
      "source": [
        "<a href=\"https://colab.research.google.com/github/chefhaider/Checkers-Min-MAX-with-multiprocessing/blob/main/Copy_of_notebook.ipynb\" target=\"_parent\"><img src=\"https://colab.research.google.com/assets/colab-badge.svg\" alt=\"Open In Colab\"/></a>"
      ]
    },
    {
      "cell_type": "code",
      "metadata": {
        "id": "GoyZamMDeB5F"
      },
      "source": [
        "import re\n",
        "import string\n",
        "import nltk\n",
        "from nltk.corpus import stopwords"
      ],
      "execution_count": 421,
      "outputs": []
    },
    {
      "cell_type": "code",
      "metadata": {
        "id": "xRJ8fTIId-Pc"
      },
      "source": [
        "import pandas as pd\n",
        "import requests\n",
        "\n",
        "import numpy as np\n",
        "import matplotlib.pyplot as plt\n",
        "import seaborn as sns"
      ],
      "execution_count": 422,
      "outputs": []
    },
    {
      "cell_type": "code",
      "metadata": {
        "id": "guHMwqoybRhp"
      },
      "source": [
        "df = pd.read_csv('https://raw.githubusercontent.com/chefhaider/Fake-News-Detection-Kaggle/main/train.csv')"
      ],
      "execution_count": 423,
      "outputs": []
    },
    {
      "cell_type": "code",
      "metadata": {
        "colab": {
          "base_uri": "https://localhost:8080/",
          "height": 204
        },
        "id": "080gZcIUdwr3",
        "outputId": "076b1afc-ad6c-4f3d-f555-bf114f9e4d83"
      },
      "source": [
        "df.head()"
      ],
      "execution_count": 424,
      "outputs": [
        {
          "output_type": "execute_result",
          "data": {
            "text/html": [
              "<div>\n",
              "<style scoped>\n",
              "    .dataframe tbody tr th:only-of-type {\n",
              "        vertical-align: middle;\n",
              "    }\n",
              "\n",
              "    .dataframe tbody tr th {\n",
              "        vertical-align: top;\n",
              "    }\n",
              "\n",
              "    .dataframe thead th {\n",
              "        text-align: right;\n",
              "    }\n",
              "</style>\n",
              "<table border=\"1\" class=\"dataframe\">\n",
              "  <thead>\n",
              "    <tr style=\"text-align: right;\">\n",
              "      <th></th>\n",
              "      <th>id</th>\n",
              "      <th>keyword</th>\n",
              "      <th>location</th>\n",
              "      <th>text</th>\n",
              "      <th>target</th>\n",
              "    </tr>\n",
              "  </thead>\n",
              "  <tbody>\n",
              "    <tr>\n",
              "      <th>0</th>\n",
              "      <td>1</td>\n",
              "      <td>NaN</td>\n",
              "      <td>NaN</td>\n",
              "      <td>Our Deeds are the Reason of this #earthquake M...</td>\n",
              "      <td>1</td>\n",
              "    </tr>\n",
              "    <tr>\n",
              "      <th>1</th>\n",
              "      <td>4</td>\n",
              "      <td>NaN</td>\n",
              "      <td>NaN</td>\n",
              "      <td>Forest fire near La Ronge Sask. Canada</td>\n",
              "      <td>1</td>\n",
              "    </tr>\n",
              "    <tr>\n",
              "      <th>2</th>\n",
              "      <td>5</td>\n",
              "      <td>NaN</td>\n",
              "      <td>NaN</td>\n",
              "      <td>All residents asked to 'shelter in place' are ...</td>\n",
              "      <td>1</td>\n",
              "    </tr>\n",
              "    <tr>\n",
              "      <th>3</th>\n",
              "      <td>6</td>\n",
              "      <td>NaN</td>\n",
              "      <td>NaN</td>\n",
              "      <td>13,000 people receive #wildfires evacuation or...</td>\n",
              "      <td>1</td>\n",
              "    </tr>\n",
              "    <tr>\n",
              "      <th>4</th>\n",
              "      <td>7</td>\n",
              "      <td>NaN</td>\n",
              "      <td>NaN</td>\n",
              "      <td>Just got sent this photo from Ruby #Alaska as ...</td>\n",
              "      <td>1</td>\n",
              "    </tr>\n",
              "  </tbody>\n",
              "</table>\n",
              "</div>"
            ],
            "text/plain": [
              "   id keyword  ...                                               text target\n",
              "0   1     NaN  ...  Our Deeds are the Reason of this #earthquake M...      1\n",
              "1   4     NaN  ...             Forest fire near La Ronge Sask. Canada      1\n",
              "2   5     NaN  ...  All residents asked to 'shelter in place' are ...      1\n",
              "3   6     NaN  ...  13,000 people receive #wildfires evacuation or...      1\n",
              "4   7     NaN  ...  Just got sent this photo from Ruby #Alaska as ...      1\n",
              "\n",
              "[5 rows x 5 columns]"
            ]
          },
          "metadata": {
            "tags": []
          },
          "execution_count": 424
        }
      ]
    },
    {
      "cell_type": "code",
      "metadata": {
        "colab": {
          "base_uri": "https://localhost:8080/"
        },
        "id": "5ZYL2wPeeGLj",
        "outputId": "0c602993-8278-4b6f-cb60-d434c6f9c1c1"
      },
      "source": [
        "df['target'].value_counts()"
      ],
      "execution_count": 425,
      "outputs": [
        {
          "output_type": "execute_result",
          "data": {
            "text/plain": [
              "0    4342\n",
              "1    3271\n",
              "Name: target, dtype: int64"
            ]
          },
          "metadata": {
            "tags": []
          },
          "execution_count": 425
        }
      ]
    },
    {
      "cell_type": "code",
      "metadata": {
        "colab": {
          "base_uri": "https://localhost:8080/"
        },
        "id": "sDsDh_8ed8KN",
        "outputId": "53f61fc5-5d34-4ff2-af4a-e030d253ebcd"
      },
      "source": [
        "df.isnull().sum()"
      ],
      "execution_count": 426,
      "outputs": [
        {
          "output_type": "execute_result",
          "data": {
            "text/plain": [
              "id             0\n",
              "keyword       61\n",
              "location    2533\n",
              "text           0\n",
              "target         0\n",
              "dtype: int64"
            ]
          },
          "metadata": {
            "tags": []
          },
          "execution_count": 426
        }
      ]
    },
    {
      "cell_type": "code",
      "metadata": {
        "colab": {
          "base_uri": "https://localhost:8080/"
        },
        "id": "F7OcT_TH-GbL",
        "outputId": "3858cbab-a9b8-4c77-8dea-44fd59aacb1e"
      },
      "source": [
        "len(df.location.unique())"
      ],
      "execution_count": 427,
      "outputs": [
        {
          "output_type": "execute_result",
          "data": {
            "text/plain": [
              "3342"
            ]
          },
          "metadata": {
            "tags": []
          },
          "execution_count": 427
        }
      ]
    },
    {
      "cell_type": "code",
      "metadata": {
        "id": "wMMdBdzOokUK",
        "colab": {
          "base_uri": "https://localhost:8080/",
          "height": 103
        },
        "outputId": "84ee4baf-fb18-4d60-92e6-715d34ee79dc"
      },
      "source": [
        "'''import pandas as pd\n",
        "from geopy.geocoders import Nominatim\n",
        "from geopy.exc import GeocoderTimedOut\n",
        "\n",
        "\n",
        "df = pd.read_csv('https://raw.githubusercontent.com/chefhaider/Fake-News-Detection-Kaggle/main/train.csv')\n",
        "\n",
        "\n",
        "geolocator = Nominatim(user_agent = \"geoapiExercises\")\n",
        "city_name = []\n",
        "\n",
        "\n",
        "\n",
        "\n",
        "for val in df.location:\n",
        "  if val == 'nan':\n",
        "    city_name+=[' ']\n",
        "    continue\n",
        "\n",
        "  try:\n",
        "    city_name+=[ geolocator.geocode(val)[-2].split(',')[-1] ]\n",
        "  except TypeError:\n",
        "    city_name+=[' ']\n",
        "  except GeocoderTimedOut :\n",
        "    city_name+=[' ']'''"
      ],
      "execution_count": 428,
      "outputs": [
        {
          "output_type": "execute_result",
          "data": {
            "application/vnd.google.colaboratory.intrinsic+json": {
              "type": "string"
            },
            "text/plain": [
              "'import pandas as pd\\nfrom geopy.geocoders import Nominatim\\nfrom geopy.exc import GeocoderTimedOut\\n\\n\\ndf = pd.read_csv(\\'https://raw.githubusercontent.com/chefhaider/Fake-News-Detection-Kaggle/main/train.csv\\')\\n\\n\\ngeolocator = Nominatim(user_agent = \"geoapiExercises\")\\ncity_name = []\\n\\n\\n\\n\\nfor val in df.location:\\n  if val == \\'nan\\':\\n    city_name+=[\\' \\']\\n    continue\\n\\n  try:\\n    city_name+=[ geolocator.geocode(val)[-2].split(\\',\\')[-1] ]\\n  except TypeError:\\n    city_name+=[\\' \\']\\n  except GeocoderTimedOut :\\n    city_name+=[\\' \\']'"
            ]
          },
          "metadata": {
            "tags": []
          },
          "execution_count": 428
        }
      ]
    },
    {
      "cell_type": "code",
      "metadata": {
        "id": "SvMl5rsFBN6-"
      },
      "source": [
        "#fig = plt.figure(figsize=(10,80))\n",
        "#sns.countplot(y=\"keyword\",order=df[df.target == 1]['keyword'].value_counts().index, hue=\"target\",data = df)"
      ],
      "execution_count": 429,
      "outputs": []
    },
    {
      "cell_type": "code",
      "metadata": {
        "id": "NiYN0sWgiwmN"
      },
      "source": [
        "df.dropna(subset = [\"keyword\"], inplace=True)"
      ],
      "execution_count": 430,
      "outputs": []
    },
    {
      "cell_type": "code",
      "metadata": {
        "id": "3dXuyVge0Hf7",
        "colab": {
          "base_uri": "https://localhost:8080/"
        },
        "outputId": "78f3ec58-1a1a-461a-ea39-8c1ae05aa6ad"
      },
      "source": [
        "df['text'].head()"
      ],
      "execution_count": 431,
      "outputs": [
        {
          "output_type": "execute_result",
          "data": {
            "text/plain": [
              "31    @bbcmtd Wholesale Markets ablaze http://t.co/l...\n",
              "32    We always try to bring the heavy. #metal #RT h...\n",
              "33    #AFRICANBAZE: Breaking news:Nigeria flag set a...\n",
              "34                   Crying out for more! Set me ablaze\n",
              "35    On plus side LOOK AT THE SKY LAST NIGHT IT WAS...\n",
              "Name: text, dtype: object"
            ]
          },
          "metadata": {
            "tags": []
          },
          "execution_count": 431
        }
      ]
    },
    {
      "cell_type": "code",
      "metadata": {
        "id": "81jcLnIUN0dU"
      },
      "source": [
        "import re\n",
        "import string\n",
        "\n",
        "\n",
        "\n",
        "\n",
        "def clean_text(text):\n",
        "\n",
        "\n",
        "    url = re.compile(r'https?://\\S+|www\\.\\S+')\n",
        "    text = url.sub(r'',text)\n",
        "\n",
        "\n",
        "    html=re.compile(r'<.*?>')\n",
        "    text = html.sub(r'',text)\n",
        "\n",
        "\n",
        "\n",
        "    emoji_pattern = re.compile(\"[\"\n",
        "                           u\"\\U0001F600-\\U0001F64F\"  # emoticons\n",
        "                           u\"\\U0001F300-\\U0001F5FF\"  # symbols & pictographs\n",
        "                           u\"\\U0001F680-\\U0001F6FF\"  # transport & map symbols\n",
        "                           u\"\\U0001F1E0-\\U0001F1FF\"  # flags (iOS)\n",
        "                           u\"\\U00002702-\\U000027B0\"\n",
        "                           u\"\\U000024C2-\\U0001F251\"\n",
        "                           \"]+\", flags=re.UNICODE)\n",
        "    text = emoji_pattern.sub(r'', text)\n",
        "\n",
        "\n",
        "    table=str.maketrans('','',string.punctuation)\n",
        "    return text.translate(table)\n",
        "\n",
        "\n",
        "\n",
        "df['text'] = df['text'].apply(lambda x: clean_text(x))\n",
        "test['text'] = test['text'].apply(lambda x: clean_text(x))"
      ],
      "execution_count": 432,
      "outputs": []
    },
    {
      "cell_type": "code",
      "metadata": {
        "id": "65hYAFxu1Isf"
      },
      "source": [
        "df.loc[df['keyword'].notnull(), 'text'] = df['keyword'] + ' ' + df['text']\n",
        "test.loc[test['keyword'].notnull(), 'text'] = test['keyword'] + ' ' + test['text']\n"
      ],
      "execution_count": 433,
      "outputs": []
    },
    {
      "cell_type": "code",
      "metadata": {
        "id": "MGJWNoNQXNx0",
        "colab": {
          "base_uri": "https://localhost:8080/"
        },
        "outputId": "3a863a2b-e743-4b30-9d9a-ebb6a364c587"
      },
      "source": [
        "from sklearn.feature_extraction.text import TfidfVectorizer\n",
        "\n",
        "\n",
        "tf_idf_vect = TfidfVectorizer(ngram_range=(1,3)) # one,two and three gram vectorization\n",
        "tf_idf_mat = tf_idf_vect.fit_transform(df['text'].values) # fit_transform vectorizer to dtrain['text']\n",
        "tf_idf_mat_test = tf_idf_vect.transform(test['text'].values) # fit_transform vectorizer to dtest['text']\n",
        "type(tf_idf_mat)\n",
        "print(tf_idf_mat.get_shape())"
      ],
      "execution_count": 434,
      "outputs": [
        {
          "output_type": "stream",
          "text": [
            "(7552, 161519)\n"
          ],
          "name": "stdout"
        }
      ]
    },
    {
      "cell_type": "code",
      "metadata": {
        "id": "6FaxwtY-BsPQ",
        "colab": {
          "base_uri": "https://localhost:8080/"
        },
        "outputId": "85da842a-d80b-48ca-fcd2-c2a6c784eae7"
      },
      "source": [
        "type(tf_idf_mat)"
      ],
      "execution_count": 435,
      "outputs": [
        {
          "output_type": "execute_result",
          "data": {
            "text/plain": [
              "scipy.sparse.csr.csr_matrix"
            ]
          },
          "metadata": {
            "tags": []
          },
          "execution_count": 435
        }
      ]
    },
    {
      "cell_type": "code",
      "metadata": {
        "id": "abQcrvxVYCLR",
        "colab": {
          "base_uri": "https://localhost:8080/"
        },
        "outputId": "b73da014-09c3-41f7-d6e5-7b46338377c4"
      },
      "source": [
        "from sklearn.metrics import confusion_matrix\n",
        "from sklearn import metrics\n",
        "from sklearn.naive_bayes import MultinomialNB\n",
        "from sklearn.model_selection import train_test_split\n",
        "\n",
        "from sklearn.metrics import classification_report\n",
        "\n",
        "\n",
        "\n",
        "\n",
        "\n",
        "x1, x_test1, y1, y_test1 = train_test_split(tf_idf_mat,df['target'],train_size=0.8, random_state = 0)\n",
        "\n",
        "m_model = MultinomialNB(alpha=1).fit(x1, y1)\n",
        "#m_model.score(x_test1,y_test1)\n",
        "pred = clf.predict(x_test)\n",
        "print(classification_report(y_test, pred))"
      ],
      "execution_count": 436,
      "outputs": [
        {
          "output_type": "stream",
          "text": [
            "              precision    recall  f1-score   support\n",
            "\n",
            "           0       0.72      0.85      0.78       858\n",
            "           1       0.73      0.56      0.64       653\n",
            "\n",
            "    accuracy                           0.72      1511\n",
            "   macro avg       0.73      0.70      0.71      1511\n",
            "weighted avg       0.72      0.72      0.72      1511\n",
            "\n"
          ],
          "name": "stdout"
        }
      ]
    },
    {
      "cell_type": "code",
      "metadata": {
        "colab": {
          "base_uri": "https://localhost:8080/"
        },
        "id": "dgWslkAMFcju",
        "outputId": "55f602d4-d1ba-41c7-f0dd-f38f9249d045"
      },
      "source": [
        "df.dropna(subset = [\"keyword\"], inplace=True)\n",
        "df.reset_index(drop=True, inplace=True)\n",
        "\n",
        "\n",
        "from sklearn.feature_extraction.text import CountVectorizer\n",
        "\n",
        "\n",
        "count_vect = CountVectorizer() # one,two and three gram vectorization\n",
        "count_mat = tf_idf_vect.fit_transform(df['keyword'].values) # fit_transform vectorizer to dtrain['text']\n",
        "\n",
        "\n",
        "\n",
        "\n",
        "from sklearn.naive_bayes import BernoulliNB\n",
        "from sklearn.model_selection import train_test_split\n",
        "\n",
        "from sklearn.metrics import classification_report\n",
        "\n",
        "\n",
        "\n",
        "\n",
        "\n",
        "x2, x_test2, y2, y_test2 = train_test_split(count_mat,df['target'],train_size=0.8, random_state = 0)\n",
        "\n",
        "#b_model = BernoulliNB(alpha=1).fit(x2, y2)\n",
        "#b_model.score(x_test2,y_test2)\n",
        "pred = clf.predict(x_test)\n",
        "print(classification_report(y_test, pred))"
      ],
      "execution_count": 437,
      "outputs": [
        {
          "output_type": "stream",
          "text": [
            "              precision    recall  f1-score   support\n",
            "\n",
            "           0       0.72      0.85      0.78       858\n",
            "           1       0.73      0.56      0.64       653\n",
            "\n",
            "    accuracy                           0.72      1511\n",
            "   macro avg       0.73      0.70      0.71      1511\n",
            "weighted avg       0.72      0.72      0.72      1511\n",
            "\n"
          ],
          "name": "stdout"
        }
      ]
    },
    {
      "cell_type": "code",
      "metadata": {
        "id": "3Q7NjHHCHEBA"
      },
      "source": [
        "prob1 = [ val[1] for val in m_model.predict_proba(x_test1) ]\n",
        "prob2 = [ val[1] for val in  b_model.predict_proba(x_test2) ]"
      ],
      "execution_count": 438,
      "outputs": []
    },
    {
      "cell_type": "code",
      "metadata": {
        "colab": {
          "base_uri": "https://localhost:8080/",
          "height": 296
        },
        "id": "ijjH7sdRNuEi",
        "outputId": "0cf88a44-cebb-486a-a102-34738cff9991"
      },
      "source": [
        "prob_df = pd.DataFrame()\n",
        "prob_df['text'] = prob1\n",
        "prob_df['keyword'] = prob2\n",
        "\n",
        "sns.scatterplot(data=prob_df, x=\"text\", y=\"keyword\")"
      ],
      "execution_count": 439,
      "outputs": [
        {
          "output_type": "execute_result",
          "data": {
            "text/plain": [
              "<matplotlib.axes._subplots.AxesSubplot at 0x7f9b04598750>"
            ]
          },
          "metadata": {
            "tags": []
          },
          "execution_count": 439
        },
        {
          "output_type": "display_data",
          "data": {
            "image/png": "[encoded data removed]",
            "text/plain": [
              "<Figure size 432x288 with 1 Axes>"
            ]
          },
          "metadata": {
            "tags": [],
            "needs_background": "light"
          }
        }
      ]
    },
    {
      "cell_type": "code",
      "metadata": {
        "id": "_1B5uQPHP2HU"
      },
      "source": [
        "prediction = []\n",
        "\n",
        "for val1,val2 in zip(prob1,prob2):\n",
        "  if val1<.5 and val2<.6:\n",
        "    prediction.append(0)\n",
        "  else:\n",
        "    prediction.append(1)"
      ],
      "execution_count": 440,
      "outputs": []
    },
    {
      "cell_type": "code",
      "metadata": {
        "colab": {
          "base_uri": "https://localhost:8080/"
        },
        "id": "gt-h1Uf8Kc6L",
        "outputId": "22f24805-8bdb-46d4-82e6-753793ec9cd4"
      },
      "source": [
        "from sklearn.metrics import classification_report\n",
        "\n",
        "print(classification_report(y_test1, prediction))"
      ],
      "execution_count": 441,
      "outputs": [
        {
          "output_type": "stream",
          "text": [
            "              precision    recall  f1-score   support\n",
            "\n",
            "           0       0.76      0.88      0.82       858\n",
            "           1       0.80      0.64      0.71       653\n",
            "\n",
            "    accuracy                           0.78      1511\n",
            "   macro avg       0.78      0.76      0.77      1511\n",
            "weighted avg       0.78      0.78      0.77      1511\n",
            "\n"
          ],
          "name": "stdout"
        }
      ]
    },
    {
      "cell_type": "code",
      "metadata": {
        "colab": {
          "base_uri": "https://localhost:8080/",
          "height": 86
        },
        "id": "a0DJmI5NTOV8",
        "outputId": "9a5a86ce-672f-4927-ae3c-d01102f6f3b5"
      },
      "source": [
        "'''test = pd.read_csv('https://raw.githubusercontent.com/chefhaider/Fake-News-Detection-Kaggle/main/test.csv')\n",
        "\n",
        "predictions = clf.predict(tf_idf_mat_test)\n",
        "\n",
        "tf_idf_mat_test = tf_idf_vect.transform(test['text'].values) # fit_transform vectorizer to dtest['text']\n",
        "\n",
        "output = pd.DataFrame({'id': test.id, 'target': predictions})\n",
        "output.to_csv('my_submission.csv', index=False)'''"
      ],
      "execution_count": 442,
      "outputs": [
        {
          "output_type": "execute_result",
          "data": {
            "application/vnd.google.colaboratory.intrinsic+json": {
              "type": "string"
            },
            "text/plain": [
              "\"test = pd.read_csv('https://raw.githubusercontent.com/chefhaider/Fake-News-Detection-Kaggle/main/test.csv')\\n\\npredictions = clf.predict(tf_idf_mat_test)\\n\\ntf_idf_mat_test = tf_idf_vect.transform(test['text'].values) # fit_transform vectorizer to dtest['text']\\n\\noutput = pd.DataFrame({'id': test.id, 'target': predictions})\\noutput.to_csv('my_submission.csv', index=False)\""
            ]
          },
          "metadata": {
            "tags": []
          },
          "execution_count": 442
        }
      ]
    }
  ]
}